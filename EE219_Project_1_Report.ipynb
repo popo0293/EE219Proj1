{
 "cells": [
  {
   "cell_type": "markdown",
   "metadata": {},
   "source": [
    "# EE219 Project 1\n",
    "\n",
    "Team members:  \n",
    "Yichen Wu 504294181  \n",
    "Siyuan Chen"
   ]
  },
  {
   "cell_type": "markdown",
   "metadata": {},
   "source": [
    "### Required Packages:\n",
    "nltk v3.2.5  \n",
    "numpy v1.14.0  \n",
    "scikit-learn v0.19.1  \n",
    "scipy 1.0.0  \n",
    "matplotlib v2.1.2  "
   ]
  },
  {
   "cell_type": "markdown",
   "metadata": {},
   "source": [
    "#### a) Plot a histogram of the number of training documents per class"
   ]
  },
  {
   "cell_type": "code",
   "execution_count": 2,
   "metadata": {},
   "outputs": [
    {
     "data": {
      "image/png": "[encoded data removed]",
      "text/plain": [
       "<matplotlib.figure.Figure at 0x2b0bd1c29e8>"
      ]
     },
     "metadata": {},
     "output_type": "display_data"
    },
    {
     "data": {
      "image/png": "[encoded data removed]",
      "text/plain": [
       "<matplotlib.figure.Figure at 0x2b0bd5de710>"
      ]
     },
     "metadata": {},
     "output_type": "display_data"
    }
   ],
   "source": [
    "import numpy as np\n",
    "import pylab as pl\n",
    "import logging\n",
    "from logging.config import fileConfig\n",
    "from sklearn.datasets import fetch_20newsgroups\n",
    "\n",
    "logging.info(\"Problem a\")\n",
    "\n",
    "categories = ['comp.graphics', 'comp.os.ms-windows.misc', 'comp.sys.ibm.pc.hardware',\n",
    "              'comp.sys.mac.hardware', 'rec.autos', 'rec.motorcycles', 'rec.sport.baseball', 'rec.sport.hockey']\n",
    "\n",
    "cat_sum_train = []          # training data size of each class 0-7\n",
    "cat_sum_test = []           # testing data size of each class 0-7\n",
    "\n",
    "for i in range(len(categories)):\n",
    "    temp = fetch_20newsgroups(subset='train', categories=[categories[i]], shuffle=True, random_state=42)\n",
    "    cat_sum_train.append(len(temp.data))\n",
    "    temp = fetch_20newsgroups(subset='test', categories=[categories[i]], shuffle=True, random_state=42)\n",
    "    cat_sum_test.append(len(temp.data))\n",
    "\n",
    "y_pos = np.arange(len(categories))\n",
    "pl.figure(1)\n",
    "pl.barh(y_pos, cat_sum_train, align='center', color='blue', ecolor='black')\n",
    "pl.xlabel(\"Set Size\")\n",
    "pl.ylabel(\"Classes\")\n",
    "pl.title(\"Size of training set for each class\")\n",
    "pl.yticks(y_pos, categories)\n",
    "pl.gca().invert_yaxis()\n",
    "pl.tight_layout()\n",
    "\n",
    "pl.figure(2)\n",
    "pl.hist(cat_sum_train)\n",
    "pl.title(\"Distribution of training size per class\")\n",
    "pl.xlabel(\"Training size per class\")\n",
    "pl.ylabel(\"Numbers\")\n",
    "pl.show()"
   ]
  },
  {
   "cell_type": "markdown",
   "metadata": {},
   "source": [
    "#### b) TFxIDF"
   ]
  },
  {
   "cell_type": "code",
   "execution_count": null,
   "metadata": {
    "collapsed": true
   },
   "outputs": [],
   "source": [
    "def stem_and_tokenize(doc):\n",
    "    exclude = set(string.punctuation)\n",
    "    no_punctuation = ''.join(ch for ch in doc if ch not in exclude)\n",
    "    tokenizer = RegexpTokenizer(\"[\\w']+\")\n",
    "    tokens = tokenizer.tokenize(no_punctuation)\n",
    "    stemmer = SnowballStemmer(\"english\", ignore_stopwords=True)\n",
    "    return [stemmer.stem(t) for t in tokens]\n",
    "\n",
    "\n",
    "tfidf_transformer = TfidfTransformer(sublinear_tf=True, smooth_idf=False, use_idf=True)\n",
    "\n",
    "vectorizer = CountVectorizer(min_df=MIN_DF, stop_words=ENGLISH_STOP_WORDS, tokenizer=stem_and_tokenize)\n",
    "M = vectorizer.fit_transform(train_data.data)\n",
    "M_train_tfidf = tfidf_transformer.fit_transform(M)\n",
    "print(\"With min_df = %d , (training documents, terms extracted): \" % MIN_DF, M_train_tfidf.shape)\n"
   ]
  },
  {
   "cell_type": "markdown",
   "metadata": {},
   "source": [
    "With min_df = 2 , (training documents, terms extracted):  (4732, 21895)  \n",
    "With min_df = 5 , (training documents, terms extracted):  (4732, 8892)"
   ]
  },
  {
   "cell_type": "markdown",
   "metadata": {
    "collapsed": true
   },
   "source": [
    "#### c) Top 10 significant terms for selected classes"
   ]
  },
  {
   "cell_type": "code",
   "execution_count": null,
   "metadata": {},
   "outputs": [],
   "source": [
    "all_data = fetch_20newsgroups(subset='all', shuffle=True, random_state=42)\n",
    "\n",
    "string_of_each_class = []\n",
    "for i in range(len(all_data.target_names)):\n",
    "    string_of_each_class.append(\"\")\n",
    "\n",
    "for i in range(len(all_data.data)):\n",
    "    string_of_each_class[all_data.target[i]] = string_of_each_class[all_data.target[i]] + \" \" + all_data.data[i]\n",
    "\n",
    "vectorizer = CountVectorizer(min_df=MIN_DF, analyzer=\"word\", stop_words=ENGLISH_STOP_WORDS, tokenizer=stem_and_tokenize)\n",
    "M = vectorizer.fit_transform(string_of_each_class)\n",
    "M_train_tficf = tfidf_transformer.fit_transform(M)\n",
    "print(\"With min_df = %d, (all classes, terms extracted): \" % MIN_DF, M_train_tficf.shape)\n",
    "\n",
    "duration = timer()-start\n",
    "print(\"Computation Time in secs: \", duration)\n",
    "\n",
    "cat_top10 = [\"comp.sys.ibm.pc.hardware\", \"comp.sys.mac.hardware\", \"misc.forsale\", \"soc.religion.christian\"]\n",
    "print(\"With min_df = %d\" % MIN_DF)\n",
    "\n",
    "for name in cat_top10:\n",
    "    index = all_data.target_names.index(name)\n",
    "    arr = M_train_tficf.toarray()[index]\n",
    "    sig_terms = np.argsort(arr)[-10:][-1::-1]\n",
    "    logging.info(name)\n",
    "    logging.info(sig_terms)\n",
    "    print(\"Top 10 most significant terms in class %s are:\" % name)\n",
    "    for i in sig_terms:\n",
    "        print(vectorizer.get_feature_names()[i])\n"
   ]
  },
  {
   "cell_type": "markdown",
   "metadata": {},
   "source": [
    "With min_df = 2, (all classes, terms extracted):  (20, 31410)\n",
    "\n",
    "Top 10 most significant terms in class comp.sys.ibm.pc.hardware are:\n",
    ">scsi1  \n",
    ">adaptec  \n",
    ">scsi2  \n",
    ">com4  \n",
    ">scsi  \n",
    ">guydaustinibmcom  \n",
    ">ide  \n",
    ">nanao  \n",
    ">hoskyn  \n",
    ">dx2    \n",
    "\n",
    "Top 10 most significant terms in class comp.sys.mac.hardware are:\n",
    ">quadra  \n",
    ">pds  \n",
    ">centri  \n",
    ">nubus  \n",
    ">powerbook  \n",
    ">iisi  \n",
    ">performa  \n",
    ">duo  \n",
    ">iivx  \n",
    ">powerpc    \n",
    "\n",
    "Top 10 most significant terms in class misc.forsale are:\n",
    ">wolverin  \n",
    ">hobgoblin  \n",
    ">pom  \n",
    ">hulk  \n",
    ">obo  \n",
    ">forsal  \n",
    ">lobo  \n",
    ">superman  \n",
    ">sega  \n",
    ">070  \n",
    "\n",
    "Top 10 most significant terms in class soc.religion.christian are:\n",
    ">boswel  \n",
    ">byler  \n",
    ">psalm  \n",
    ">apostl  \n",
    ">leviticus  \n",
    ">siemon  \n",
    ">jayn  \n",
    ">bestial  \n",
    ">consecr  \n",
    ">baptiz  "
   ]
  },
  {
   "cell_type": "markdown",
   "metadata": {},
   "source": [
    "With min_df = 5, (all classes, terms extracted):  (20, 11579)  \n",
    "\n",
    "Top 10 most significant terms in class comp.sys.ibm.pc.hardware are:  \n",
    ">scsi  \n",
    "ide  \n",
    "vlb  \n",
    "irq  \n",
    "motherboard  \n",
    "bio  \n",
    "cmos  \n",
    "esdi  \n",
    "ati  \n",
    "seagat  \n",
    "\n",
    "Top 10 most significant terms in class comp.sys.mac.hardware are:  \n",
    ">fpu  \n",
    "simm  \n",
    "scsi  \n",
    "vram  \n",
    "iici  \n",
    "040  \n",
    "mhz  \n",
    "68040 \n",
    "lc  \n",
    "dock  \n",
    "\n",
    "Top 10 most significant terms in class misc.forsale are:  \n",
    ">forsal  \n",
    "cod  \n",
    "scsi  \n",
    "mpc  \n",
    "840  \n",
    "meg  \n",
    "motherboard  \n",
    "panason  \n",
    "420  \n",
    "thor  \n",
    "\n",
    "Top 10 most significant terms in class soc.religion.christian are:  \n",
    ">scriptur  \n",
    "baptism  \n",
    "homosexu  \n",
    "cathol  \n",
    "mormon  \n",
    "testament  \n",
    "gospel  \n",
    "theolog  \n",
    "gentil  \n",
    "spiritu  "
   ]
  },
  {
   "cell_type": "markdown",
   "metadata": {},
   "source": [
    "#### d) "
   ]
  }
 ],
 "metadata": {
  "kernelspec": {
   "display_name": "Python 3",
   "language": "python",
   "name": "python3"
  },
  "language_info": {
   "codemirror_mode": {
    "name": "ipython",
    "version": 3
   },
   "file_extension": ".py",
   "mimetype": "text/x-python",
   "name": "python",
   "nbconvert_exporter": "python",
   "pygments_lexer": "ipython3",
   "version": "3.6.3"
  }
 },
 "nbformat": 4,
 "nbformat_minor": 2
}
